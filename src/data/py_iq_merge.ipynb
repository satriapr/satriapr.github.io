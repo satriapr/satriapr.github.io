{
 "cells": [
  {
   "cell_type": "code",
   "execution_count": 2,
   "id": "78e54233-39c1-42c3-8886-f5d75aded570",
   "metadata": {},
   "outputs": [],
   "source": [
    "import pandas as pd\n",
    "\n",
    "# Load the existing merged data\n",
    "merged_data = pd.read_csv(\"merged_data.csv\")\n",
    "\n",
    "# Load the new IQ data\n",
    "iq_data = pd.read_csv(\"smartest-countries-2024.csv\")\n",
    "\n",
    "# Merge the datasets on the country column\n",
    "combined_data = merged_data.merge(iq_data, on='country', how='left')\n",
    "\n",
    "# Find countries with missing IQ data\n",
    "missing_iq_data = combined_data[combined_data['averageIqByCountry_iqLynnBecker2019'].isnull()]\n",
    "\n",
    "# Save the combined data and the missing IQ data\n",
    "combined_data.to_csv(\"save_combined_data.csv\", index=False)\n",
    "missing_iq_data.to_csv(\"missing_iq_data.csv\", index=False)"
   ]
  },
  {
   "cell_type": "code",
   "execution_count": null,
   "id": "dcd32f12-f8ba-4796-b126-3d97ebe73a49",
   "metadata": {},
   "outputs": [],
   "source": []
  }
 ],
 "metadata": {
  "kernelspec": {
   "display_name": "Python 3 (ipykernel)",
   "language": "python",
   "name": "python3"
  },
  "language_info": {
   "codemirror_mode": {
    "name": "ipython",
    "version": 3
   },
   "file_extension": ".py",
   "mimetype": "text/x-python",
   "name": "python",
   "nbconvert_exporter": "python",
   "pygments_lexer": "ipython3",
   "version": "3.12.4"
  }
 },
 "nbformat": 4,
 "nbformat_minor": 5
}
