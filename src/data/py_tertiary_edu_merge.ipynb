{
 "cells": [
  {
   "cell_type": "code",
   "execution_count": 10,
   "id": "14fde16c-ef5a-49fe-b34e-5e6e903241ab",
   "metadata": {},
   "outputs": [],
   "source": [
    "import pandas as pd\n",
    "\n",
    "# Load the merged dataset and the tertiary education data\n",
    "merged_data = pd.read_csv(\"old_merged_data.csv\")\n",
    "tertiary_data = pd.read_csv(\"tertiary_education_data.csv\", skiprows=4)\n",
    "\n",
    "# Extract relevant columns and reshape the data\n",
    "tertiary_data = tertiary_data.melt(id_vars=[\"Country Name\"], var_name=\"Year\", value_name=\"Tertiary Enrollment\")\n",
    "tertiary_data[\"Year\"] = pd.to_numeric(tertiary_data[\"Year\"], errors='coerce')\n",
    "tertiary_data = tertiary_data.dropna()\n",
    "\n",
    "# Get the latest year data for each country\n",
    "latest_tertiary_data = tertiary_data.loc[tertiary_data.groupby(\"Country Name\")[\"Year\"].idxmax()]\n",
    "\n",
    "# Rename the columns for clarity\n",
    "latest_tertiary_data = latest_tertiary_data.rename(columns={\n",
    "    \"Country Name\": \"country\",\n",
    "    \"Tertiary Enrollment\": \"tertiary_percentage\",\n",
    "    \"Year\": \"latest_year_data\"\n",
    "})\n",
    "\n",
    "# Merge with the existing data\n",
    "combined_data = merged_data.merge(latest_tertiary_data, on=\"country\", how=\"left\")\n",
    "\n",
    "# Find countries with missing tertiary data\n",
    "missing_tertiary_data = combined_data[combined_data[\"tertiary_percentage\"].isnull()]\n",
    "\n",
    "# Save the combined data and the missing tertiary data\n",
    "combined_data.to_csv(\"merged_data.csv\", index=False)\n",
    "missing_tertiary_data.to_csv(\"missing_tertiary_data.csv\", index=False)"
   ]
  },
  {
   "cell_type": "code",
   "execution_count": null,
   "id": "a449a4ad-a02b-45be-9e19-7e71a5e8abe7",
   "metadata": {},
   "outputs": [],
   "source": []
  }
 ],
 "metadata": {
  "kernelspec": {
   "display_name": "Python 3 (ipykernel)",
   "language": "python",
   "name": "python3"
  },
  "language_info": {
   "codemirror_mode": {
    "name": "ipython",
    "version": 3
   },
   "file_extension": ".py",
   "mimetype": "text/x-python",
   "name": "python",
   "nbconvert_exporter": "python",
   "pygments_lexer": "ipython3",
   "version": "3.12.4"
  }
 },
 "nbformat": 4,
 "nbformat_minor": 5
}
