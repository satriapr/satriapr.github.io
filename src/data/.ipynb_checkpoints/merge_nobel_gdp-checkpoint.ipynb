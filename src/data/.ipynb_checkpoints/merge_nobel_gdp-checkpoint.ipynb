{
 "cells": [
  {
   "cell_type": "code",
   "execution_count": 1,
   "id": "b28a4e61-32cc-452d-9e61-80c546a9a4af",
   "metadata": {},
   "outputs": [],
   "source": [
    "import pandas as pd\n",
    "\n",
    "# Load datasets\n",
    "nobel_data = pd.read_csv('nobel_prize_processed.csv')\n",
    "country_data = pd.read_csv('gdp_by_country.csv')\n",
    "\n",
    "# Process the Nobel Prize data to get counts per country and year range\n",
    "nobel_data_long = pd.melt(nobel_data, id_vars=['year', 'birth_country'], \n",
    "                          value_vars=['Chemistry', 'Economics', 'Literature', 'Medicine', 'Peace', 'Physics'],\n",
    "                          var_name='category', value_name='count')\n",
    "\n",
    "nobel_data_long = nobel_data_long[nobel_data_long['count'] > 0]\n",
    "nobel_data_long = nobel_data_long.groupby(['year', 'birth_country']).sum().reset_index()\n",
    "\n",
    "# Merge the datasets\n",
    "merged_data = pd.merge(nobel_data_long, country_data, left_on='birth_country', right_on='country', how='inner')\n",
    "\n",
    "# Save the merged dataset\n",
    "merged_data.to_csv('merged_data.csv', index=False)"
   ]
  },
  {
   "cell_type": "code",
   "execution_count": null,
   "id": "56e79cc6-aa65-43b4-bc9d-e5386828825d",
   "metadata": {},
   "outputs": [],
   "source": []
  }
 ],
 "metadata": {
  "kernelspec": {
   "display_name": "Python 3 (ipykernel)",
   "language": "python",
   "name": "python3"
  },
  "language_info": {
   "codemirror_mode": {
    "name": "ipython",
    "version": 3
   },
   "file_extension": ".py",
   "mimetype": "text/x-python",
   "name": "python",
   "nbconvert_exporter": "python",
   "pygments_lexer": "ipython3",
   "version": "3.12.4"
  }
 },
 "nbformat": 4,
 "nbformat_minor": 5
}
